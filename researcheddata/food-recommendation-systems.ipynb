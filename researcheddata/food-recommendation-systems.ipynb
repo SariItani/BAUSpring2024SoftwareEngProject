{
 "cells": [
  {
   "cell_type": "code",
   "execution_count": 1,
   "metadata": {
    "_cell_guid": "b1076dfc-b9ad-4769-8c92-a6c4dae69d19",
    "_uuid": "8f2839f25d086af736a60e9eeb907d3b93b6e0e5",
    "execution": {
     "iopub.execute_input": "2022-08-03T14:01:39.000735Z",
     "iopub.status.busy": "2022-08-03T14:01:38.999824Z",
     "iopub.status.idle": "2022-08-03T14:01:39.870241Z",
     "shell.execute_reply": "2022-08-03T14:01:39.870852Z",
     "shell.execute_reply.started": "2022-08-03T13:54:24.305842Z"
    },
    "papermill": {
     "duration": 0.89074,
     "end_time": "2022-08-03T14:01:39.871064",
     "exception": false,
     "start_time": "2022-08-03T14:01:38.980324",
     "status": "completed"
    },
    "tags": []
   },
   "outputs": [],
   "source": [
    "import numpy as np # linear algebra\n",
    "import pandas as pd # data processing, CSV file I/O (e.g. pd.read_csv)\n",
    "import seaborn as sns\n",
    "import sys\n",
    "import matplotlib.pyplot as plt\n",
    "import seaborn as sns"
   ]
  },
  {
   "cell_type": "markdown",
   "metadata": {
    "papermill": {
     "duration": 0.014969,
     "end_time": "2022-08-03T14:01:39.902142",
     "exception": false,
     "start_time": "2022-08-03T14:01:39.887173",
     "status": "completed"
    },
    "tags": []
   },
   "source": [
    "# In this first section, we build a simple recommender that recommends food based on how much people have apprciated it"
   ]
  },
  {
   "cell_type": "code",
   "execution_count": 2,
   "metadata": {
    "_cell_guid": "79c7e3d0-c299-4dcb-8224-4455121ee9b0",
    "_uuid": "d629ff2d2480ee46fbb7e2d37f6b5fab8052498a",
    "execution": {
     "iopub.execute_input": "2022-08-03T14:01:39.935284Z",
     "iopub.status.busy": "2022-08-03T14:01:39.934643Z",
     "iopub.status.idle": "2022-08-03T14:01:45.844896Z",
     "shell.execute_reply": "2022-08-03T14:01:45.844289Z",
     "shell.execute_reply.started": "2022-08-03T13:54:25.428744Z"
    },
    "papermill": {
     "duration": 5.927612,
     "end_time": "2022-08-03T14:01:45.845019",
     "exception": false,
     "start_time": "2022-08-03T14:01:39.917407",
     "status": "completed"
    },
    "tags": []
   },
   "outputs": [],
   "source": [
    "df = pd.read_csv('/kaggle/input/food-com-recipes-and-user-interactions/RAW_recipes.csv')"
   ]
  },
  {
   "cell_type": "code",
   "execution_count": 3,
   "metadata": {
    "execution": {
     "iopub.execute_input": "2022-08-03T14:01:45.882860Z",
     "iopub.status.busy": "2022-08-03T14:01:45.882241Z",
     "iopub.status.idle": "2022-08-03T14:01:52.420495Z",
     "shell.execute_reply": "2022-08-03T14:01:52.419311Z",
     "shell.execute_reply.started": "2022-08-03T13:54:32.233640Z"
    },
    "papermill": {
     "duration": 6.560473,
     "end_time": "2022-08-03T14:01:52.420634",
     "exception": false,
     "start_time": "2022-08-03T14:01:45.860161",
     "status": "completed"
    },
    "tags": []
   },
   "outputs": [],
   "source": [
    "df2=pd.read_csv('/kaggle/input/food-com-recipes-and-user-interactions/RAW_interactions.csv')"
   ]
  },
  {
   "cell_type": "code",
   "execution_count": 4,
   "metadata": {
    "execution": {
     "iopub.execute_input": "2022-08-03T14:01:52.468888Z",
     "iopub.status.busy": "2022-08-03T14:01:52.467415Z",
     "iopub.status.idle": "2022-08-03T14:01:52.483022Z",
     "shell.execute_reply": "2022-08-03T14:01:52.482442Z",
     "shell.execute_reply.started": "2022-08-03T13:54:39.410411Z"
    },
    "papermill": {
     "duration": 0.045294,
     "end_time": "2022-08-03T14:01:52.483155",
     "exception": false,
     "start_time": "2022-08-03T14:01:52.437861",
     "status": "completed"
    },
    "tags": []
   },
   "outputs": [
    {
     "data": {
      "text/html": [
       "<div>\n",
       "<style scoped>\n",
       "    .dataframe tbody tr th:only-of-type {\n",
       "        vertical-align: middle;\n",
       "    }\n",
       "\n",
       "    .dataframe tbody tr th {\n",
       "        vertical-align: top;\n",
       "    }\n",
       "\n",
       "    .dataframe thead th {\n",
       "        text-align: right;\n",
       "    }\n",
       "</style>\n",
       "<table border=\"1\" class=\"dataframe\">\n",
       "  <thead>\n",
       "    <tr style=\"text-align: right;\">\n",
       "      <th></th>\n",
       "      <th>name</th>\n",
       "      <th>id</th>\n",
       "      <th>minutes</th>\n",
       "      <th>contributor_id</th>\n",
       "      <th>submitted</th>\n",
       "      <th>tags</th>\n",
       "      <th>nutrition</th>\n",
       "      <th>n_steps</th>\n",
       "      <th>steps</th>\n",
       "      <th>description</th>\n",
       "      <th>ingredients</th>\n",
       "      <th>n_ingredients</th>\n",
       "    </tr>\n",
       "  </thead>\n",
       "  <tbody>\n",
       "    <tr>\n",
       "      <th>0</th>\n",
       "      <td>arriba   baked winter squash mexican style</td>\n",
       "      <td>137739</td>\n",
       "      <td>55</td>\n",
       "      <td>47892</td>\n",
       "      <td>2005-09-16</td>\n",
       "      <td>['60-minutes-or-less', 'time-to-make', 'course...</td>\n",
       "      <td>[51.5, 0.0, 13.0, 0.0, 2.0, 0.0, 4.0]</td>\n",
       "      <td>11</td>\n",
       "      <td>['make a choice and proceed with recipe', 'dep...</td>\n",
       "      <td>autumn is my favorite time of year to cook! th...</td>\n",
       "      <td>['winter squash', 'mexican seasoning', 'mixed ...</td>\n",
       "      <td>7</td>\n",
       "    </tr>\n",
       "    <tr>\n",
       "      <th>1</th>\n",
       "      <td>a bit different  breakfast pizza</td>\n",
       "      <td>31490</td>\n",
       "      <td>30</td>\n",
       "      <td>26278</td>\n",
       "      <td>2002-06-17</td>\n",
       "      <td>['30-minutes-or-less', 'time-to-make', 'course...</td>\n",
       "      <td>[173.4, 18.0, 0.0, 17.0, 22.0, 35.0, 1.0]</td>\n",
       "      <td>9</td>\n",
       "      <td>['preheat oven to 425 degrees f', 'press dough...</td>\n",
       "      <td>this recipe calls for the crust to be prebaked...</td>\n",
       "      <td>['prepared pizza crust', 'sausage patty', 'egg...</td>\n",
       "      <td>6</td>\n",
       "    </tr>\n",
       "    <tr>\n",
       "      <th>2</th>\n",
       "      <td>all in the kitchen  chili</td>\n",
       "      <td>112140</td>\n",
       "      <td>130</td>\n",
       "      <td>196586</td>\n",
       "      <td>2005-02-25</td>\n",
       "      <td>['time-to-make', 'course', 'preparation', 'mai...</td>\n",
       "      <td>[269.8, 22.0, 32.0, 48.0, 39.0, 27.0, 5.0]</td>\n",
       "      <td>6</td>\n",
       "      <td>['brown ground beef in large pot', 'add choppe...</td>\n",
       "      <td>this modified version of 'mom's' chili was a h...</td>\n",
       "      <td>['ground beef', 'yellow onions', 'diced tomato...</td>\n",
       "      <td>13</td>\n",
       "    </tr>\n",
       "    <tr>\n",
       "      <th>3</th>\n",
       "      <td>alouette  potatoes</td>\n",
       "      <td>59389</td>\n",
       "      <td>45</td>\n",
       "      <td>68585</td>\n",
       "      <td>2003-04-14</td>\n",
       "      <td>['60-minutes-or-less', 'time-to-make', 'course...</td>\n",
       "      <td>[368.1, 17.0, 10.0, 2.0, 14.0, 8.0, 20.0]</td>\n",
       "      <td>11</td>\n",
       "      <td>['place potatoes in a large pot of lightly sal...</td>\n",
       "      <td>this is a super easy, great tasting, make ahea...</td>\n",
       "      <td>['spreadable cheese with garlic and herbs', 'n...</td>\n",
       "      <td>11</td>\n",
       "    </tr>\n",
       "    <tr>\n",
       "      <th>4</th>\n",
       "      <td>amish  tomato ketchup  for canning</td>\n",
       "      <td>44061</td>\n",
       "      <td>190</td>\n",
       "      <td>41706</td>\n",
       "      <td>2002-10-25</td>\n",
       "      <td>['weeknight', 'time-to-make', 'course', 'main-...</td>\n",
       "      <td>[352.9, 1.0, 337.0, 23.0, 3.0, 0.0, 28.0]</td>\n",
       "      <td>5</td>\n",
       "      <td>['mix all ingredients&amp; boil for 2 1 / 2 hours ...</td>\n",
       "      <td>my dh's amish mother raised him on this recipe...</td>\n",
       "      <td>['tomato juice', 'apple cider vinegar', 'sugar...</td>\n",
       "      <td>8</td>\n",
       "    </tr>\n",
       "  </tbody>\n",
       "</table>\n",
       "</div>"
      ],
      "text/plain": [
       "                                         name      id  minutes  \\\n",
       "0  arriba   baked winter squash mexican style  137739       55   \n",
       "1            a bit different  breakfast pizza   31490       30   \n",
       "2                   all in the kitchen  chili  112140      130   \n",
       "3                          alouette  potatoes   59389       45   \n",
       "4          amish  tomato ketchup  for canning   44061      190   \n",
       "\n",
       "   contributor_id   submitted  \\\n",
       "0           47892  2005-09-16   \n",
       "1           26278  2002-06-17   \n",
       "2          196586  2005-02-25   \n",
       "3           68585  2003-04-14   \n",
       "4           41706  2002-10-25   \n",
       "\n",
       "                                                tags  \\\n",
       "0  ['60-minutes-or-less', 'time-to-make', 'course...   \n",
       "1  ['30-minutes-or-less', 'time-to-make', 'course...   \n",
       "2  ['time-to-make', 'course', 'preparation', 'mai...   \n",
       "3  ['60-minutes-or-less', 'time-to-make', 'course...   \n",
       "4  ['weeknight', 'time-to-make', 'course', 'main-...   \n",
       "\n",
       "                                    nutrition  n_steps  \\\n",
       "0       [51.5, 0.0, 13.0, 0.0, 2.0, 0.0, 4.0]       11   \n",
       "1   [173.4, 18.0, 0.0, 17.0, 22.0, 35.0, 1.0]        9   \n",
       "2  [269.8, 22.0, 32.0, 48.0, 39.0, 27.0, 5.0]        6   \n",
       "3   [368.1, 17.0, 10.0, 2.0, 14.0, 8.0, 20.0]       11   \n",
       "4   [352.9, 1.0, 337.0, 23.0, 3.0, 0.0, 28.0]        5   \n",
       "\n",
       "                                               steps  \\\n",
       "0  ['make a choice and proceed with recipe', 'dep...   \n",
       "1  ['preheat oven to 425 degrees f', 'press dough...   \n",
       "2  ['brown ground beef in large pot', 'add choppe...   \n",
       "3  ['place potatoes in a large pot of lightly sal...   \n",
       "4  ['mix all ingredients& boil for 2 1 / 2 hours ...   \n",
       "\n",
       "                                         description  \\\n",
       "0  autumn is my favorite time of year to cook! th...   \n",
       "1  this recipe calls for the crust to be prebaked...   \n",
       "2  this modified version of 'mom's' chili was a h...   \n",
       "3  this is a super easy, great tasting, make ahea...   \n",
       "4  my dh's amish mother raised him on this recipe...   \n",
       "\n",
       "                                         ingredients  n_ingredients  \n",
       "0  ['winter squash', 'mexican seasoning', 'mixed ...              7  \n",
       "1  ['prepared pizza crust', 'sausage patty', 'egg...              6  \n",
       "2  ['ground beef', 'yellow onions', 'diced tomato...             13  \n",
       "3  ['spreadable cheese with garlic and herbs', 'n...             11  \n",
       "4  ['tomato juice', 'apple cider vinegar', 'sugar...              8  "
      ]
     },
     "execution_count": 4,
     "metadata": {},
     "output_type": "execute_result"
    }
   ],
   "source": [
    "df.head()"
   ]
  },
  {
   "cell_type": "code",
   "execution_count": 5,
   "metadata": {
    "execution": {
     "iopub.execute_input": "2022-08-03T14:01:52.614424Z",
     "iopub.status.busy": "2022-08-03T14:01:52.613736Z",
     "iopub.status.idle": "2022-08-03T14:01:52.617116Z",
     "shell.execute_reply": "2022-08-03T14:01:52.616409Z",
     "shell.execute_reply.started": "2022-08-03T13:54:39.441491Z"
    },
    "papermill": {
     "duration": 0.117811,
     "end_time": "2022-08-03T14:01:52.617266",
     "exception": false,
     "start_time": "2022-08-03T14:01:52.499455",
     "status": "completed"
    },
    "tags": []
   },
   "outputs": [],
   "source": [
    "df2.head()\n",
    "df2=df2.drop(['user_id','date','review'],axis=1)"
   ]
  },
  {
   "cell_type": "code",
   "execution_count": 6,
   "metadata": {
    "execution": {
     "iopub.execute_input": "2022-08-03T14:01:52.659629Z",
     "iopub.status.busy": "2022-08-03T14:01:52.658554Z",
     "iopub.status.idle": "2022-08-03T14:01:52.662708Z",
     "shell.execute_reply": "2022-08-03T14:01:52.662076Z",
     "shell.execute_reply.started": "2022-08-03T13:54:39.542139Z"
    },
    "papermill": {
     "duration": 0.027805,
     "end_time": "2022-08-03T14:01:52.662860",
     "exception": false,
     "start_time": "2022-08-03T14:01:52.635055",
     "status": "completed"
    },
    "tags": []
   },
   "outputs": [
    {
     "data": {
      "text/html": [
       "<div>\n",
       "<style scoped>\n",
       "    .dataframe tbody tr th:only-of-type {\n",
       "        vertical-align: middle;\n",
       "    }\n",
       "\n",
       "    .dataframe tbody tr th {\n",
       "        vertical-align: top;\n",
       "    }\n",
       "\n",
       "    .dataframe thead th {\n",
       "        text-align: right;\n",
       "    }\n",
       "</style>\n",
       "<table border=\"1\" class=\"dataframe\">\n",
       "  <thead>\n",
       "    <tr style=\"text-align: right;\">\n",
       "      <th></th>\n",
       "      <th>recipe_id</th>\n",
       "      <th>rating</th>\n",
       "    </tr>\n",
       "  </thead>\n",
       "  <tbody>\n",
       "    <tr>\n",
       "      <th>0</th>\n",
       "      <td>40893</td>\n",
       "      <td>4</td>\n",
       "    </tr>\n",
       "    <tr>\n",
       "      <th>1</th>\n",
       "      <td>40893</td>\n",
       "      <td>5</td>\n",
       "    </tr>\n",
       "    <tr>\n",
       "      <th>2</th>\n",
       "      <td>44394</td>\n",
       "      <td>4</td>\n",
       "    </tr>\n",
       "    <tr>\n",
       "      <th>3</th>\n",
       "      <td>85009</td>\n",
       "      <td>5</td>\n",
       "    </tr>\n",
       "    <tr>\n",
       "      <th>4</th>\n",
       "      <td>85009</td>\n",
       "      <td>5</td>\n",
       "    </tr>\n",
       "  </tbody>\n",
       "</table>\n",
       "</div>"
      ],
      "text/plain": [
       "   recipe_id  rating\n",
       "0      40893       4\n",
       "1      40893       5\n",
       "2      44394       4\n",
       "3      85009       5\n",
       "4      85009       5"
      ]
     },
     "execution_count": 6,
     "metadata": {},
     "output_type": "execute_result"
    }
   ],
   "source": [
    "df2.head()"
   ]
  },
  {
   "cell_type": "code",
   "execution_count": 7,
   "metadata": {
    "execution": {
     "iopub.execute_input": "2022-08-03T14:01:52.699666Z",
     "iopub.status.busy": "2022-08-03T14:01:52.699017Z",
     "iopub.status.idle": "2022-08-03T14:01:52.704118Z",
     "shell.execute_reply": "2022-08-03T14:01:52.703515Z",
     "shell.execute_reply.started": "2022-08-03T13:54:39.555205Z"
    },
    "papermill": {
     "duration": 0.025288,
     "end_time": "2022-08-03T14:01:52.704249",
     "exception": false,
     "start_time": "2022-08-03T14:01:52.678961",
     "status": "completed"
    },
    "tags": []
   },
   "outputs": [],
   "source": [
    "#Store average rating of meals\n",
    "C=df2['rating'].mean()"
   ]
  },
  {
   "cell_type": "code",
   "execution_count": 8,
   "metadata": {
    "execution": {
     "iopub.execute_input": "2022-08-03T14:01:52.742560Z",
     "iopub.status.busy": "2022-08-03T14:01:52.741900Z",
     "iopub.status.idle": "2022-08-03T14:01:52.861688Z",
     "shell.execute_reply": "2022-08-03T14:01:52.860957Z",
     "shell.execute_reply.started": "2022-08-03T13:54:39.568481Z"
    },
    "papermill": {
     "duration": 0.141292,
     "end_time": "2022-08-03T14:01:52.861843",
     "exception": false,
     "start_time": "2022-08-03T14:01:52.720551",
     "status": "completed"
    },
    "tags": []
   },
   "outputs": [],
   "source": [
    "#Group seperate meal ratings together and get average meal score equally prevent recipe_id from being an index\n",
    "df3=df2.groupby(['recipe_id'])['rating'].agg(['mean','count'])\n",
    "df3.reset_index(inplace=True)"
   ]
  },
  {
   "cell_type": "code",
   "execution_count": 9,
   "metadata": {
    "_kg_hide-output": true,
    "execution": {
     "iopub.execute_input": "2022-08-03T14:01:52.901837Z",
     "iopub.status.busy": "2022-08-03T14:01:52.900942Z",
     "iopub.status.idle": "2022-08-03T14:01:52.904068Z",
     "shell.execute_reply": "2022-08-03T14:01:52.903561Z",
     "shell.execute_reply.started": "2022-08-03T13:54:39.704862Z"
    },
    "papermill": {
     "duration": 0.025898,
     "end_time": "2022-08-03T14:01:52.904179",
     "exception": false,
     "start_time": "2022-08-03T14:01:52.878281",
     "status": "completed"
    },
    "tags": []
   },
   "outputs": [],
   "source": [
    "#Rename columns \n",
    "df3.rename(columns={'mean':'average_rating','count':'votes'},inplace=True)"
   ]
  },
  {
   "cell_type": "code",
   "execution_count": 10,
   "metadata": {
    "execution": {
     "iopub.execute_input": "2022-08-03T14:01:52.941559Z",
     "iopub.status.busy": "2022-08-03T14:01:52.940932Z",
     "iopub.status.idle": "2022-08-03T14:01:53.210150Z",
     "shell.execute_reply": "2022-08-03T14:01:53.209567Z",
     "shell.execute_reply.started": "2022-08-03T13:54:39.711741Z"
    },
    "papermill": {
     "duration": 0.290155,
     "end_time": "2022-08-03T14:01:53.210296",
     "exception": false,
     "start_time": "2022-08-03T14:01:52.920141",
     "status": "completed"
    },
    "tags": []
   },
   "outputs": [],
   "source": [
    "#Merge ratings dataframe with recipe Dataframe\n",
    "food_df = pd.merge(df, df3, left_on='id',right_on='recipe_id')"
   ]
  },
  {
   "cell_type": "code",
   "execution_count": 11,
   "metadata": {
    "execution": {
     "iopub.execute_input": "2022-08-03T14:01:53.245522Z",
     "iopub.status.busy": "2022-08-03T14:01:53.244938Z",
     "iopub.status.idle": "2022-08-03T14:01:53.257088Z",
     "shell.execute_reply": "2022-08-03T14:01:53.257592Z",
     "shell.execute_reply.started": "2022-08-03T13:54:40.001244Z"
    },
    "papermill": {
     "duration": 0.031313,
     "end_time": "2022-08-03T14:01:53.257749",
     "exception": false,
     "start_time": "2022-08-03T14:01:53.226436",
     "status": "completed"
    },
    "tags": []
   },
   "outputs": [
    {
     "name": "stdout",
     "output_type": "stream",
     "text": [
      "9.0\n"
     ]
    }
   ],
   "source": [
    "#Show the number of votes possesed by the top 10% meals, based on number of votes\n",
    "q=df3['votes'].quantile(0.9)\n",
    "print(q)"
   ]
  },
  {
   "cell_type": "code",
   "execution_count": 12,
   "metadata": {
    "execution": {
     "iopub.execute_input": "2022-08-03T14:01:53.296410Z",
     "iopub.status.busy": "2022-08-03T14:01:53.295042Z",
     "iopub.status.idle": "2022-08-03T14:01:53.449995Z",
     "shell.execute_reply": "2022-08-03T14:01:53.449416Z",
     "shell.execute_reply.started": "2022-08-03T13:54:40.015751Z"
    },
    "papermill": {
     "duration": 0.175938,
     "end_time": "2022-08-03T14:01:53.450120",
     "exception": false,
     "start_time": "2022-08-03T14:01:53.274182",
     "status": "completed"
    },
    "tags": []
   },
   "outputs": [],
   "source": [
    "#Get meals which have received a substantial number of votes\n",
    "top_meals=food_df.copy().loc[df3['votes']>=q]"
   ]
  },
  {
   "cell_type": "code",
   "execution_count": 13,
   "metadata": {
    "execution": {
     "iopub.execute_input": "2022-08-03T14:01:53.490129Z",
     "iopub.status.busy": "2022-08-03T14:01:53.489203Z",
     "iopub.status.idle": "2022-08-03T14:01:53.492207Z",
     "shell.execute_reply": "2022-08-03T14:01:53.491588Z",
     "shell.execute_reply.started": "2022-08-03T13:54:40.181561Z"
    },
    "papermill": {
     "duration": 0.025237,
     "end_time": "2022-08-03T14:01:53.492332",
     "exception": false,
     "start_time": "2022-08-03T14:01:53.467095",
     "status": "completed"
    },
    "tags": []
   },
   "outputs": [],
   "source": [
    "#This function permits us to compute a special metric which takes into account the number of people\n",
    "#that have voted for a meal and not just it's average rating\n",
    "def weighted_rating(x, m=q, c=C):\n",
    "    v = x['votes']\n",
    "    R = x['average_rating']\n",
    "    return (v/(v+m) * R) + (m/(m+v) * C)"
   ]
  },
  {
   "cell_type": "code",
   "execution_count": 14,
   "metadata": {
    "execution": {
     "iopub.execute_input": "2022-08-03T14:01:53.531369Z",
     "iopub.status.busy": "2022-08-03T14:01:53.530397Z",
     "iopub.status.idle": "2022-08-03T14:01:57.891736Z",
     "shell.execute_reply": "2022-08-03T14:01:57.891169Z",
     "shell.execute_reply.started": "2022-08-03T13:54:40.191609Z"
    },
    "papermill": {
     "duration": 4.382778,
     "end_time": "2022-08-03T14:01:57.891887",
     "exception": false,
     "start_time": "2022-08-03T14:01:53.509109",
     "status": "completed"
    },
    "tags": []
   },
   "outputs": [],
   "source": [
    "#Select top meals from Dataframe\n",
    "top_meals['Score']=top_meals.apply(weighted_rating, axis=1)\n",
    "food_df['Score']=food_df.apply(weighted_rating, axis=1)"
   ]
  },
  {
   "cell_type": "code",
   "execution_count": 15,
   "metadata": {
    "execution": {
     "iopub.execute_input": "2022-08-03T14:01:57.931680Z",
     "iopub.status.busy": "2022-08-03T14:01:57.931099Z",
     "iopub.status.idle": "2022-08-03T14:01:57.957027Z",
     "shell.execute_reply": "2022-08-03T14:01:57.957634Z",
     "shell.execute_reply.started": "2022-08-03T13:54:44.687018Z"
    },
    "papermill": {
     "duration": 0.047914,
     "end_time": "2022-08-03T14:01:57.957789",
     "exception": false,
     "start_time": "2022-08-03T14:01:57.909875",
     "status": "completed"
    },
    "tags": []
   },
   "outputs": [
    {
     "data": {
      "text/html": [
       "<div>\n",
       "<style scoped>\n",
       "    .dataframe tbody tr th:only-of-type {\n",
       "        vertical-align: middle;\n",
       "    }\n",
       "\n",
       "    .dataframe tbody tr th {\n",
       "        vertical-align: top;\n",
       "    }\n",
       "\n",
       "    .dataframe thead th {\n",
       "        text-align: right;\n",
       "    }\n",
       "</style>\n",
       "<table border=\"1\" class=\"dataframe\">\n",
       "  <thead>\n",
       "    <tr style=\"text-align: right;\">\n",
       "      <th></th>\n",
       "      <th>name</th>\n",
       "      <th>votes</th>\n",
       "      <th>average_rating</th>\n",
       "      <th>Score</th>\n",
       "    </tr>\n",
       "  </thead>\n",
       "  <tbody>\n",
       "    <tr>\n",
       "      <th>14346</th>\n",
       "      <td>baked ham glazed with pineapple and chipotle p...</td>\n",
       "      <td>27</td>\n",
       "      <td>5.000000</td>\n",
       "      <td>4.852754</td>\n",
       "    </tr>\n",
       "    <tr>\n",
       "      <th>51504</th>\n",
       "      <td>chocolate raspberry  or strawberry  tall cake</td>\n",
       "      <td>37</td>\n",
       "      <td>4.945946</td>\n",
       "      <td>4.841286</td>\n",
       "    </tr>\n",
       "    <tr>\n",
       "      <th>177694</th>\n",
       "      <td>rr s caramelized onions</td>\n",
       "      <td>30</td>\n",
       "      <td>4.966667</td>\n",
       "      <td>4.838440</td>\n",
       "    </tr>\n",
       "    <tr>\n",
       "      <th>134161</th>\n",
       "      <td>mexican coffee  caf mexicano</td>\n",
       "      <td>36</td>\n",
       "      <td>4.944444</td>\n",
       "      <td>4.837759</td>\n",
       "    </tr>\n",
       "    <tr>\n",
       "      <th>128474</th>\n",
       "      <td>magic white sauce  and variations</td>\n",
       "      <td>23</td>\n",
       "      <td>5.000000</td>\n",
       "      <td>4.834348</td>\n",
       "    </tr>\n",
       "    <tr>\n",
       "      <th>192238</th>\n",
       "      <td>southeastern north carolina pulled pork</td>\n",
       "      <td>22</td>\n",
       "      <td>5.000000</td>\n",
       "      <td>4.829005</td>\n",
       "    </tr>\n",
       "    <tr>\n",
       "      <th>173099</th>\n",
       "      <td>reuben sandwich our way</td>\n",
       "      <td>20</td>\n",
       "      <td>5.000000</td>\n",
       "      <td>4.817212</td>\n",
       "    </tr>\n",
       "    <tr>\n",
       "      <th>83175</th>\n",
       "      <td>feta  marinated</td>\n",
       "      <td>20</td>\n",
       "      <td>5.000000</td>\n",
       "      <td>4.817212</td>\n",
       "    </tr>\n",
       "    <tr>\n",
       "      <th>2165</th>\n",
       "      <td>a 1  cherry cobbler tart   a1</td>\n",
       "      <td>20</td>\n",
       "      <td>5.000000</td>\n",
       "      <td>4.817212</td>\n",
       "    </tr>\n",
       "    <tr>\n",
       "      <th>224503</th>\n",
       "      <td>warm roasted root vegetable and chicken salad ...</td>\n",
       "      <td>47</td>\n",
       "      <td>4.893617</td>\n",
       "      <td>4.816056</td>\n",
       "    </tr>\n",
       "    <tr>\n",
       "      <th>76143</th>\n",
       "      <td>easy crispy dijon chicken</td>\n",
       "      <td>25</td>\n",
       "      <td>4.960000</td>\n",
       "      <td>4.814681</td>\n",
       "    </tr>\n",
       "    <tr>\n",
       "      <th>84698</th>\n",
       "      <td>flan</td>\n",
       "      <td>30</td>\n",
       "      <td>4.933333</td>\n",
       "      <td>4.812799</td>\n",
       "    </tr>\n",
       "    <tr>\n",
       "      <th>22657</th>\n",
       "      <td>best grill roasted corn on the cob</td>\n",
       "      <td>19</td>\n",
       "      <td>5.000000</td>\n",
       "      <td>4.810684</td>\n",
       "    </tr>\n",
       "    <tr>\n",
       "      <th>124484</th>\n",
       "      <td>linda s ham salad sandwich  sandwiches  or fin...</td>\n",
       "      <td>24</td>\n",
       "      <td>4.958333</td>\n",
       "      <td>4.809065</td>\n",
       "    </tr>\n",
       "    <tr>\n",
       "      <th>138192</th>\n",
       "      <td>mom s danish potato salad</td>\n",
       "      <td>50</td>\n",
       "      <td>4.880000</td>\n",
       "      <td>4.808460</td>\n",
       "    </tr>\n",
       "    <tr>\n",
       "      <th>112764</th>\n",
       "      <td>italian meatball soup   quick</td>\n",
       "      <td>29</td>\n",
       "      <td>4.931034</td>\n",
       "      <td>4.807872</td>\n",
       "    </tr>\n",
       "    <tr>\n",
       "      <th>66936</th>\n",
       "      <td>croutons</td>\n",
       "      <td>100</td>\n",
       "      <td>4.840000</td>\n",
       "      <td>4.804579</td>\n",
       "    </tr>\n",
       "    <tr>\n",
       "      <th>93520</th>\n",
       "      <td>go go garlic bread</td>\n",
       "      <td>59</td>\n",
       "      <td>4.864407</td>\n",
       "      <td>4.804399</td>\n",
       "    </tr>\n",
       "    <tr>\n",
       "      <th>26643</th>\n",
       "      <td>body and soul health muffins</td>\n",
       "      <td>18</td>\n",
       "      <td>5.000000</td>\n",
       "      <td>4.803672</td>\n",
       "    </tr>\n",
       "    <tr>\n",
       "      <th>148858</th>\n",
       "      <td>orange cranberry sauce</td>\n",
       "      <td>23</td>\n",
       "      <td>4.956522</td>\n",
       "      <td>4.803098</td>\n",
       "    </tr>\n",
       "  </tbody>\n",
       "</table>\n",
       "</div>"
      ],
      "text/plain": [
       "                                                     name  votes  \\\n",
       "14346   baked ham glazed with pineapple and chipotle p...     27   \n",
       "51504       chocolate raspberry  or strawberry  tall cake     37   \n",
       "177694                            rr s caramelized onions     30   \n",
       "134161                       mexican coffee  caf mexicano     36   \n",
       "128474                  magic white sauce  and variations     23   \n",
       "192238            southeastern north carolina pulled pork     22   \n",
       "173099                            reuben sandwich our way     20   \n",
       "83175                                     feta  marinated     20   \n",
       "2165                        a 1  cherry cobbler tart   a1     20   \n",
       "224503  warm roasted root vegetable and chicken salad ...     47   \n",
       "76143                           easy crispy dijon chicken     25   \n",
       "84698                                                flan     30   \n",
       "22657                  best grill roasted corn on the cob     19   \n",
       "124484  linda s ham salad sandwich  sandwiches  or fin...     24   \n",
       "138192                          mom s danish potato salad     50   \n",
       "112764                      italian meatball soup   quick     29   \n",
       "66936                                            croutons    100   \n",
       "93520                                  go go garlic bread     59   \n",
       "26643                        body and soul health muffins     18   \n",
       "148858                             orange cranberry sauce     23   \n",
       "\n",
       "        average_rating     Score  \n",
       "14346         5.000000  4.852754  \n",
       "51504         4.945946  4.841286  \n",
       "177694        4.966667  4.838440  \n",
       "134161        4.944444  4.837759  \n",
       "128474        5.000000  4.834348  \n",
       "192238        5.000000  4.829005  \n",
       "173099        5.000000  4.817212  \n",
       "83175         5.000000  4.817212  \n",
       "2165          5.000000  4.817212  \n",
       "224503        4.893617  4.816056  \n",
       "76143         4.960000  4.814681  \n",
       "84698         4.933333  4.812799  \n",
       "22657         5.000000  4.810684  \n",
       "124484        4.958333  4.809065  \n",
       "138192        4.880000  4.808460  \n",
       "112764        4.931034  4.807872  \n",
       "66936         4.840000  4.804579  \n",
       "93520         4.864407  4.804399  \n",
       "26643         5.000000  4.803672  \n",
       "148858        4.956522  4.803098  "
      ]
     },
     "execution_count": 15,
     "metadata": {},
     "output_type": "execute_result"
    }
   ],
   "source": [
    "#Sort best meals based on their scores\n",
    "top_meals=top_meals.sort_values('Score',ascending=False)\n",
    "\n",
    "#Print the top 20 meals\n",
    "top_meals[['name', 'votes', 'average_rating', 'Score']].head(20)"
   ]
  },
  {
   "cell_type": "markdown",
   "metadata": {
    "papermill": {
     "duration": 0.01647,
     "end_time": "2022-08-03T14:01:57.991108",
     "exception": false,
     "start_time": "2022-08-03T14:01:57.974638",
     "status": "completed"
    },
    "tags": []
   },
   "source": [
    "# Complex Recommendation"
   ]
  },
  {
   "cell_type": "markdown",
   "metadata": {
    "papermill": {
     "duration": 0.016322,
     "end_time": "2022-08-03T14:01:58.024173",
     "exception": false,
     "start_time": "2022-08-03T14:01:58.007851",
     "status": "completed"
    },
    "tags": []
   },
   "source": [
    " In this section, we will build a more complex recommender that recommends meals based on how much they are appreciated and how similar they are in general(*cookery time, ingredients,nutritional value, etc.)* This sort of system is ideal for a cook who wishes to please guests by cooking meals similar to what they appreciate without having to stress his cooking skills"
   ]
  },
  {
   "cell_type": "code",
   "execution_count": 16,
   "metadata": {
    "execution": {
     "iopub.execute_input": "2022-08-03T14:01:58.060751Z",
     "iopub.status.busy": "2022-08-03T14:01:58.060149Z",
     "iopub.status.idle": "2022-08-03T14:01:58.065405Z",
     "shell.execute_reply": "2022-08-03T14:01:58.065999Z",
     "shell.execute_reply.started": "2022-08-03T13:54:44.720844Z"
    },
    "papermill": {
     "duration": 0.025096,
     "end_time": "2022-08-03T14:01:58.066140",
     "exception": false,
     "start_time": "2022-08-03T14:01:58.041044",
     "status": "completed"
    },
    "tags": []
   },
   "outputs": [
    {
     "data": {
      "text/plain": [
       "Index(['name', 'id', 'minutes', 'contributor_id', 'submitted', 'tags',\n",
       "       'nutrition', 'n_steps', 'steps', 'description', 'ingredients',\n",
       "       'n_ingredients', 'recipe_id', 'average_rating', 'votes', 'Score'],\n",
       "      dtype='object')"
      ]
     },
     "execution_count": 16,
     "metadata": {},
     "output_type": "execute_result"
    }
   ],
   "source": [
    "food_df.columns"
   ]
  },
  {
   "cell_type": "code",
   "execution_count": 17,
   "metadata": {
    "execution": {
     "iopub.execute_input": "2022-08-03T14:01:58.103711Z",
     "iopub.status.busy": "2022-08-03T14:01:58.103119Z",
     "iopub.status.idle": "2022-08-03T14:01:58.115384Z",
     "shell.execute_reply": "2022-08-03T14:01:58.115931Z",
     "shell.execute_reply.started": "2022-08-03T13:54:44.730167Z"
    },
    "papermill": {
     "duration": 0.032542,
     "end_time": "2022-08-03T14:01:58.116075",
     "exception": false,
     "start_time": "2022-08-03T14:01:58.083533",
     "status": "completed"
    },
    "tags": []
   },
   "outputs": [
    {
     "data": {
      "text/plain": [
       "'[51.5, 0.0, 13.0, 0.0, 2.0, 0.0, 4.0]'"
      ]
     },
     "execution_count": 17,
     "metadata": {},
     "output_type": "execute_result"
    }
   ],
   "source": [
    "food_df.loc[0]['nutrition']"
   ]
  },
  {
   "cell_type": "code",
   "execution_count": 18,
   "metadata": {
    "execution": {
     "iopub.execute_input": "2022-08-03T14:01:58.154603Z",
     "iopub.status.busy": "2022-08-03T14:01:58.153957Z",
     "iopub.status.idle": "2022-08-03T14:01:58.157393Z",
     "shell.execute_reply": "2022-08-03T14:01:58.157950Z",
     "shell.execute_reply.started": "2022-08-03T13:54:44.752392Z"
    },
    "papermill": {
     "duration": 0.024175,
     "end_time": "2022-08-03T14:01:58.158096",
     "exception": false,
     "start_time": "2022-08-03T14:01:58.133921",
     "status": "completed"
    },
    "tags": []
   },
   "outputs": [],
   "source": [
    "#We import literal eval to convert objects into corresponding python objects\n",
    "from ast import literal_eval"
   ]
  },
  {
   "cell_type": "code",
   "execution_count": 19,
   "metadata": {
    "execution": {
     "iopub.execute_input": "2022-08-03T14:01:58.196404Z",
     "iopub.status.busy": "2022-08-03T14:01:58.195772Z",
     "iopub.status.idle": "2022-08-03T14:02:11.128728Z",
     "shell.execute_reply": "2022-08-03T14:02:11.128191Z",
     "shell.execute_reply.started": "2022-08-03T13:54:44.760136Z"
    },
    "papermill": {
     "duration": 12.953105,
     "end_time": "2022-08-03T14:02:11.128874",
     "exception": false,
     "start_time": "2022-08-03T14:01:58.175769",
     "status": "completed"
    },
    "tags": []
   },
   "outputs": [],
   "source": [
    "features=['steps','ingredients']\n",
    "for feature in features:\n",
    "    food_df[feature] = food_df[feature].apply(literal_eval)"
   ]
  },
  {
   "cell_type": "code",
   "execution_count": null,
   "metadata": {
    "papermill": {
     "duration": 0.017189,
     "end_time": "2022-08-03T14:02:11.163820",
     "exception": false,
     "start_time": "2022-08-03T14:02:11.146631",
     "status": "completed"
    },
    "tags": []
   },
   "outputs": [],
   "source": []
  }
 ],
 "metadata": {
  "kernelspec": {
   "display_name": "Python 3",
   "language": "python",
   "name": "python3"
  },
  "language_info": {
   "codemirror_mode": {
    "name": "ipython",
    "version": 3
   },
   "file_extension": ".py",
   "mimetype": "text/x-python",
   "name": "python",
   "nbconvert_exporter": "python",
   "pygments_lexer": "ipython3",
   "version": "3.7.6"
  },
  "papermill": {
   "duration": 36.380076,
   "end_time": "2022-08-03T14:02:11.294310",
   "environment_variables": {},
   "exception": null,
   "input_path": "__notebook__.ipynb",
   "output_path": "__notebook__.ipynb",
   "parameters": {},
   "start_time": "2022-08-03T14:01:34.914234",
   "version": "2.1.0"
  }
 },
 "nbformat": 4,
 "nbformat_minor": 4
}
